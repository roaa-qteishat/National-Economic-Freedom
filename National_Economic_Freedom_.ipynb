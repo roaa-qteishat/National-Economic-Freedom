{
  "nbformat": 4,
  "nbformat_minor": 0,
  "metadata": {
    "colab": {
      "name": "National Economic Freedom .ipynb",
      "provenance": [],
      "authorship_tag": "ABX9TyPeJr2ZWud8dp7/ofWHBUqs",
      "include_colab_link": true
    },
    "kernelspec": {
      "name": "python3",
      "display_name": "Python 3"
    },
    "language_info": {
      "name": "python"
    }
  },
  "cells": [
    {
      "cell_type": "markdown",
      "metadata": {
        "id": "view-in-github",
        "colab_type": "text"
      },
      "source": [
        "<a href=\"https://colab.research.google.com/github/roaa-qteishat/National-Economic-Freedom/blob/main/National_Economic_Freedom_.ipynb\" target=\"_parent\"><img src=\"https://colab.research.google.com/assets/colab-badge.svg\" alt=\"Open In Colab\"/></a>"
      ]
    },
    {
      "cell_type": "markdown",
      "source": [
        "You are working on data that represents the economic freedom rank by country.\n",
        "Each country name and rank are stored in a dictionary, with the key being the country name.\n",
        "\n",
        "Complete the program to take the country name as input and output its corresponding economic freedom rank.\n",
        "In case the provided country name is not present in the data, output \"Not found\"."
      ],
      "metadata": {
        "id": "SRnpz4RE3797"
      }
    },
    {
      "cell_type": "code",
      "execution_count": 1,
      "metadata": {
        "id": "Dh95YEb732_I"
      },
      "outputs": [],
      "source": [
        "data = {\n",
        "    'Singapore': 1,\n",
        "    'Ireland': 6,\n",
        "    'United Kingdom': 7,\n",
        "    'Germany': 27,\n",
        "    'Armenia': 34,\n",
        "    'United States': 17,\n",
        "    'Canada': 9,\n",
        "    'Italy': 74\n",
        "}"
      ]
    },
    {
      "cell_type": "code",
      "source": [
        "name=input(\"please enter country name : \")\n",
        "print(data.get(name,\"Not found\"))"
      ],
      "metadata": {
        "colab": {
          "base_uri": "https://localhost:8080/"
        },
        "id": "gRINlyqP4tk4",
        "outputId": "3070e877-c600-4c8c-8e7b-5ad39b960807"
      },
      "execution_count": 4,
      "outputs": [
        {
          "output_type": "stream",
          "name": "stdout",
          "text": [
            "please enter country name : lllll\n",
            "Not found\n"
          ]
        }
      ]
    }
  ]
}